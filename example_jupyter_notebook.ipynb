{
 "cells": [
  {
   "cell_type": "markdown",
   "metadata": {},
   "source": [
    "# WaterpyBal API Example\n",
    "Here we are going develope an example to demonstrate the usage of WaterpyBal library."
   ]
  },
  {
   "cell_type": "markdown",
   "metadata": {},
   "source": [
    "## Importing the Libraries"
   ]
  },
  {
   "cell_type": "code",
   "execution_count": null,
   "metadata": {},
   "outputs": [],
   "source": [
    "from waterpybal.dataset_prep import netCDF_ds"
   ]
  }
 ],
 "metadata": {
  "kernelspec": {
   "display_name": "Python 3.7.12 ('pysplitenv')",
   "language": "python",
   "name": "python3"
  },
  "language_info": {
   "name": "python",
   "version": "3.7.12"
  },
  "orig_nbformat": 4,
  "vscode": {
   "interpreter": {
    "hash": "df5ee4dba632cccc21a7b8fb6f8bef9ed8f734af8cb8bb92cf1eb36fb1b2b8de"
   }
  }
 },
 "nbformat": 4,
 "nbformat_minor": 2
}
